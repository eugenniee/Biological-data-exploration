{
 "cells": [
  {
   "cell_type": "code",
   "execution_count": 1,
   "id": "fcf376ba",
   "metadata": {},
   "outputs": [
    {
     "data": {
      "text/html": [
       "<div>\n",
       "<style scoped>\n",
       "    .dataframe tbody tr th:only-of-type {\n",
       "        vertical-align: middle;\n",
       "    }\n",
       "\n",
       "    .dataframe tbody tr th {\n",
       "        vertical-align: top;\n",
       "    }\n",
       "\n",
       "    .dataframe thead th {\n",
       "        text-align: right;\n",
       "    }\n",
       "</style>\n",
       "<table border=\"1\" class=\"dataframe\">\n",
       "  <thead>\n",
       "    <tr style=\"text-align: right;\">\n",
       "      <th></th>\n",
       "      <th>Species</th>\n",
       "      <th>Kingdom</th>\n",
       "      <th>Class</th>\n",
       "      <th>Size (Mb)</th>\n",
       "      <th>GC%</th>\n",
       "      <th>Number of genes</th>\n",
       "      <th>Number of proteins</th>\n",
       "      <th>Publication year</th>\n",
       "      <th>Assembly status</th>\n",
       "    </tr>\n",
       "  </thead>\n",
       "  <tbody>\n",
       "    <tr>\n",
       "      <th>0</th>\n",
       "      <td>Emiliania huxleyi CCMP1516</td>\n",
       "      <td>Protists</td>\n",
       "      <td>Other Protists</td>\n",
       "      <td>167.676000</td>\n",
       "      <td>64.5</td>\n",
       "      <td>38549</td>\n",
       "      <td>38554</td>\n",
       "      <td>2013</td>\n",
       "      <td>Scaffold</td>\n",
       "    </tr>\n",
       "    <tr>\n",
       "      <th>1</th>\n",
       "      <td>Arabidopsis thaliana</td>\n",
       "      <td>Plants</td>\n",
       "      <td>Land Plants</td>\n",
       "      <td>119.669000</td>\n",
       "      <td>36.0529</td>\n",
       "      <td>38311</td>\n",
       "      <td>48265</td>\n",
       "      <td>2001</td>\n",
       "      <td>Chromosome</td>\n",
       "    </tr>\n",
       "    <tr>\n",
       "      <th>2</th>\n",
       "      <td>Glycine max</td>\n",
       "      <td>Plants</td>\n",
       "      <td>Land Plants</td>\n",
       "      <td>979.046000</td>\n",
       "      <td>35.1153</td>\n",
       "      <td>59847</td>\n",
       "      <td>71219</td>\n",
       "      <td>2010</td>\n",
       "      <td>Chromosome</td>\n",
       "    </tr>\n",
       "    <tr>\n",
       "      <th>3</th>\n",
       "      <td>Medicago truncatula</td>\n",
       "      <td>Plants</td>\n",
       "      <td>Land Plants</td>\n",
       "      <td>412.924000</td>\n",
       "      <td>34.047</td>\n",
       "      <td>37603</td>\n",
       "      <td>41939</td>\n",
       "      <td>2011</td>\n",
       "      <td>Chromosome</td>\n",
       "    </tr>\n",
       "    <tr>\n",
       "      <th>4</th>\n",
       "      <td>Solanum lycopersicum</td>\n",
       "      <td>Plants</td>\n",
       "      <td>Land Plants</td>\n",
       "      <td>828.349000</td>\n",
       "      <td>35.6991</td>\n",
       "      <td>31200</td>\n",
       "      <td>37660</td>\n",
       "      <td>2010</td>\n",
       "      <td>Chromosome</td>\n",
       "    </tr>\n",
       "    <tr>\n",
       "      <th>...</th>\n",
       "      <td>...</td>\n",
       "      <td>...</td>\n",
       "      <td>...</td>\n",
       "      <td>...</td>\n",
       "      <td>...</td>\n",
       "      <td>...</td>\n",
       "      <td>...</td>\n",
       "      <td>...</td>\n",
       "      <td>...</td>\n",
       "    </tr>\n",
       "    <tr>\n",
       "      <th>8297</th>\n",
       "      <td>Saccharomyces cerevisiae</td>\n",
       "      <td>Fungi</td>\n",
       "      <td>Ascomycetes</td>\n",
       "      <td>3.993920</td>\n",
       "      <td>38.2</td>\n",
       "      <td>-</td>\n",
       "      <td>-</td>\n",
       "      <td>2017</td>\n",
       "      <td>Scaffold</td>\n",
       "    </tr>\n",
       "    <tr>\n",
       "      <th>8298</th>\n",
       "      <td>Saccharomyces cerevisiae</td>\n",
       "      <td>Fungi</td>\n",
       "      <td>Ascomycetes</td>\n",
       "      <td>0.586761</td>\n",
       "      <td>38.5921</td>\n",
       "      <td>155</td>\n",
       "      <td>298</td>\n",
       "      <td>1992</td>\n",
       "      <td>Chromosome</td>\n",
       "    </tr>\n",
       "    <tr>\n",
       "      <th>8299</th>\n",
       "      <td>Saccharomyces cerevisiae</td>\n",
       "      <td>Fungi</td>\n",
       "      <td>Ascomycetes</td>\n",
       "      <td>12.020400</td>\n",
       "      <td>38.2971</td>\n",
       "      <td>-</td>\n",
       "      <td>-</td>\n",
       "      <td>2018</td>\n",
       "      <td>Chromosome</td>\n",
       "    </tr>\n",
       "    <tr>\n",
       "      <th>8300</th>\n",
       "      <td>Saccharomyces cerevisiae</td>\n",
       "      <td>Fungi</td>\n",
       "      <td>Ascomycetes</td>\n",
       "      <td>11.960900</td>\n",
       "      <td>38.2413</td>\n",
       "      <td>-</td>\n",
       "      <td>-</td>\n",
       "      <td>2018</td>\n",
       "      <td>Chromosome</td>\n",
       "    </tr>\n",
       "    <tr>\n",
       "      <th>8301</th>\n",
       "      <td>Saccharomyces cerevisiae</td>\n",
       "      <td>Fungi</td>\n",
       "      <td>Ascomycetes</td>\n",
       "      <td>11.820700</td>\n",
       "      <td>38.2536</td>\n",
       "      <td>-</td>\n",
       "      <td>-</td>\n",
       "      <td>2018</td>\n",
       "      <td>Chromosome</td>\n",
       "    </tr>\n",
       "  </tbody>\n",
       "</table>\n",
       "<p>8302 rows × 9 columns</p>\n",
       "</div>"
      ],
      "text/plain": [
       "                         Species   Kingdom           Class   Size (Mb)  \\\n",
       "0     Emiliania huxleyi CCMP1516  Protists  Other Protists  167.676000   \n",
       "1           Arabidopsis thaliana    Plants     Land Plants  119.669000   \n",
       "2                    Glycine max    Plants     Land Plants  979.046000   \n",
       "3            Medicago truncatula    Plants     Land Plants  412.924000   \n",
       "4           Solanum lycopersicum    Plants     Land Plants  828.349000   \n",
       "...                          ...       ...             ...         ...   \n",
       "8297    Saccharomyces cerevisiae     Fungi     Ascomycetes    3.993920   \n",
       "8298    Saccharomyces cerevisiae     Fungi     Ascomycetes    0.586761   \n",
       "8299    Saccharomyces cerevisiae     Fungi     Ascomycetes   12.020400   \n",
       "8300    Saccharomyces cerevisiae     Fungi     Ascomycetes   11.960900   \n",
       "8301    Saccharomyces cerevisiae     Fungi     Ascomycetes   11.820700   \n",
       "\n",
       "          GC% Number of genes Number of proteins  Publication year  \\\n",
       "0        64.5           38549              38554              2013   \n",
       "1     36.0529           38311              48265              2001   \n",
       "2     35.1153           59847              71219              2010   \n",
       "3      34.047           37603              41939              2011   \n",
       "4     35.6991           31200              37660              2010   \n",
       "...       ...             ...                ...               ...   \n",
       "8297     38.2               -                  -              2017   \n",
       "8298  38.5921             155                298              1992   \n",
       "8299  38.2971               -                  -              2018   \n",
       "8300  38.2413               -                  -              2018   \n",
       "8301  38.2536               -                  -              2018   \n",
       "\n",
       "     Assembly status  \n",
       "0           Scaffold  \n",
       "1         Chromosome  \n",
       "2         Chromosome  \n",
       "3         Chromosome  \n",
       "4         Chromosome  \n",
       "...              ...  \n",
       "8297        Scaffold  \n",
       "8298      Chromosome  \n",
       "8299      Chromosome  \n",
       "8300      Chromosome  \n",
       "8301      Chromosome  \n",
       "\n",
       "[8302 rows x 9 columns]"
      ]
     },
     "execution_count": 1,
     "metadata": {},
     "output_type": "execute_result"
    }
   ],
   "source": [
    "import pandas as pd\n",
    "\n",
    "euk = pd.read_csv(\"eukaryotes.tsv \", sep = \"\\t\")\n",
    "euk"
   ]
  },
  {
   "cell_type": "code",
   "execution_count": 2,
   "id": "2889a5cc",
   "metadata": {},
   "outputs": [
    {
     "data": {
      "text/plain": [
       "Species                string\n",
       "Kingdom                string\n",
       "Class                  string\n",
       "Size (Mb)             float64\n",
       "GC%                   float64\n",
       "Number of genes         Int64\n",
       "Number of proteins      Int64\n",
       "Publication year        int64\n",
       "Assembly status        string\n",
       "dtype: object"
      ]
     },
     "execution_count": 2,
     "metadata": {},
     "output_type": "execute_result"
    }
   ],
   "source": [
    "my_types = {\n",
    "    \"Species\": \"string\",\n",
    "    \"Kingdom\": \"string\",\n",
    "    \"Class\": \"string\",\n",
    "    \"Assembly status\": \"string\",\n",
    "    \"Number of genes\": \"Int64\",\n",
    "    \"Number of proteins\": \"Int64\",\n",
    "}\n",
    "\n",
    "euk = pd.read_csv(\"eukaryotes.tsv\", sep = \"\\t\", dtype = my_types, na_values = [\"-\"])\n",
    "euk.dtypes"
   ]
  },
  {
   "cell_type": "code",
   "execution_count": 3,
   "id": "81eeb82a",
   "metadata": {},
   "outputs": [
    {
     "data": {
      "text/plain": [
       "0       167.676000\n",
       "1       119.669000\n",
       "2       979.046000\n",
       "3       412.924000\n",
       "4       828.349000\n",
       "           ...    \n",
       "8297      3.993920\n",
       "8298      0.586761\n",
       "8299     12.020400\n",
       "8300     11.960900\n",
       "8301     11.820700\n",
       "Name: Size (Mb), Length: 8302, dtype: float64"
      ]
     },
     "execution_count": 3,
     "metadata": {},
     "output_type": "execute_result"
    }
   ],
   "source": [
    "# To extract a single column as a series.\n",
    "\n",
    "euk[\"Size (Mb)\"]"
   ]
  },
  {
   "cell_type": "code",
   "execution_count": 6,
   "id": "341bfa2b",
   "metadata": {},
   "outputs": [
    {
     "name": "stdout",
     "output_type": "stream",
     "text": [
      "one size is 167.676 Megabases\n",
      "one size is 119.669 Megabases\n",
      "one size is 979.046 Megabases\n",
      "one size is 412.924 Megabases\n",
      "one size is 828.3489999999998 Megabases\n",
      "one size is 4006.12 Megabases\n",
      "one size is 374.423 Megabases\n",
      "one size is 14547.3 Megabases\n",
      "one size is 12.1571 Megabases\n",
      "one size is 2135.08 Megabases\n"
     ]
    },
    {
     "data": {
      "text/plain": [
       "32396.4"
      ]
     },
     "execution_count": 6,
     "metadata": {},
     "output_type": "execute_result"
    }
   ],
   "source": [
    "sizes = euk[\"Size (Mb)\"]\n",
    "\n",
    "# Iterate over series\n",
    "\n",
    "for s in sizes[:10]:\n",
    "    print(\"one size is \" + str(s) + \" Megabases\")\n",
    "\n",
    "# What is the biggest value?\n",
    "\n",
    "max(sizes)"
   ]
  },
  {
   "cell_type": "code",
   "execution_count": 11,
   "id": "4ff5dd3a",
   "metadata": {},
   "outputs": [
    {
     "name": "stdout",
     "output_type": "stream",
     "text": [
      "0.011236 32396.4 401.91843726053935 39.5597 1111.5382890873323 11.096216999207364\n",
      "1204.6580000000004\n",
      "210     32396.4\n",
      "957     27602.7\n",
      "4670    26936.2\n",
      "820     24633.1\n",
      "798     22103.6\n",
      "5022    15344.7\n",
      "940     14673.2\n",
      "7       14547.3\n",
      "5992    13916.9\n",
      "5693    13427.4\n",
      "Name: Size (Mb), dtype: float64\n",
      "1951     42.4870\n",
      "4607    861.6290\n",
      "7957     11.7185\n",
      "4866     40.9266\n",
      "7264     36.7167\n",
      "Name: Size (Mb), dtype: float64\n"
     ]
    }
   ],
   "source": [
    "# Descriptive statistics for series.\n",
    "\n",
    "print(sizes.min(), sizes.max(), sizes.mean(), sizes.median(), sizes.std(), sizes.skew())\n",
    "\n",
    "# The 90th percentile\n",
    "print(sizes.quantile(0.9))\n",
    "\n",
    "# Series of largest values.\n",
    "print(sizes.nlargest(10))\n",
    "\n",
    "# Randomly sample a number of values.\n",
    "print(sizes.sample(5))"
   ]
  },
  {
   "cell_type": "code",
   "execution_count": 12,
   "id": "3d695b97",
   "metadata": {},
   "outputs": [
    {
     "data": {
      "text/plain": [
       "Saccharomyces cerevisiae                           576\n",
       "Homo sapiens                                       210\n",
       "Pyricularia oryzae                                 199\n",
       "Venturia inaequalis                                 85\n",
       "Oryza rufipogon                                     62\n",
       "                                                  ... \n",
       "Cryptococcus neoformans var. neoformans B-3501A      1\n",
       "Rhizopus oryzae HUMC 02                              1\n",
       "Coccidioides immitis H538.4                          1\n",
       "Phytophthora infestans                               1\n",
       "Saccharomyces cerevisiae CLIB382                     1\n",
       "Name: Species, Length: 4936, dtype: Int64"
      ]
     },
     "execution_count": 12,
     "metadata": {},
     "output_type": "execute_result"
    }
   ],
   "source": [
    "# How many times each unique value occurs in the series.\n",
    "\n",
    "euk[\"Species\"].value_counts()"
   ]
  },
  {
   "cell_type": "code",
   "execution_count": 13,
   "id": "6a2b652a",
   "metadata": {},
   "outputs": [
    {
     "data": {
      "text/plain": [
       "0       16767600.0\n",
       "1       11966900.0\n",
       "2       97904600.0\n",
       "3       41292400.0\n",
       "4       82834900.0\n",
       "           ...    \n",
       "8297      399392.0\n",
       "8298       58676.1\n",
       "8299     1202040.0\n",
       "8300     1196090.0\n",
       "8301     1182070.0\n",
       "Name: Size (Mb), Length: 8302, dtype: float64"
      ]
     },
     "execution_count": 13,
     "metadata": {},
     "output_type": "execute_result"
    }
   ],
   "source": [
    "# Broadcasting\n",
    "\n",
    "sizes*100000"
   ]
  },
  {
   "cell_type": "code",
   "execution_count": 14,
   "id": "4409b498",
   "metadata": {},
   "outputs": [
    {
     "data": {
      "text/plain": [
       "0       0.355000\n",
       "1       0.639471\n",
       "2       0.648847\n",
       "3       0.659530\n",
       "4       0.643009\n",
       "          ...   \n",
       "8297    0.618000\n",
       "8298    0.614079\n",
       "8299    0.617029\n",
       "8300    0.617587\n",
       "8301    0.617464\n",
       "Name: GC%, Length: 8302, dtype: float64"
      ]
     },
     "execution_count": 14,
     "metadata": {},
     "output_type": "execute_result"
    }
   ],
   "source": [
    "# Broadcasting: converting the GC percentages to AT content.\n",
    "\n",
    "1 - (euk[\"GC%\"] / 100)"
   ]
  },
  {
   "cell_type": "code",
   "execution_count": 15,
   "id": "733dada6",
   "metadata": {},
   "outputs": [
    {
     "data": {
      "text/plain": [
       "0       0.229902\n",
       "1       0.320141\n",
       "2       0.061128\n",
       "3       0.091065\n",
       "4       0.037665\n",
       "          ...   \n",
       "8297        <NA>\n",
       "8298    0.264162\n",
       "8299        <NA>\n",
       "8300        <NA>\n",
       "8301        <NA>\n",
       "Length: 8302, dtype: Float64"
      ]
     },
     "execution_count": 15,
     "metadata": {},
     "output_type": "execute_result"
    }
   ],
   "source": [
    "# Can also use multiple columns.\n",
    "# Calculating the gene density of each genome (genes per kilobase).\n",
    "\n",
    "euk[\"Number of genes\"] / (euk[\"Size (Mb)\"] * 1000)"
   ]
  },
  {
   "cell_type": "code",
   "execution_count": 16,
   "id": "88afe263",
   "metadata": {},
   "outputs": [
    {
     "data": {
      "text/plain": [
       "0       5.122034\n",
       "1       4.784730\n",
       "2       6.886579\n",
       "3       6.023264\n",
       "4       6.719435\n",
       "          ...   \n",
       "8297    1.384773\n",
       "8298   -0.533138\n",
       "8299    2.486605\n",
       "8300    2.481643\n",
       "8301    2.469852\n",
       "Name: Size (Mb), Length: 8302, dtype: float64"
      ]
     },
     "execution_count": 16,
     "metadata": {},
     "output_type": "execute_result"
    }
   ],
   "source": [
    "# Some functions in numpy can operate on lists (unfuncs).\n",
    "\n",
    "import numpy as np\n",
    "np.log(sizes)"
   ]
  },
  {
   "cell_type": "code",
   "execution_count": 17,
   "id": "600123e3",
   "metadata": {},
   "outputs": [
    {
     "data": {
      "text/plain": [
       "0       Emiliania huxleyi CCMP1516 (Other Protists)\n",
       "1                Arabidopsis thaliana (Land Plants)\n",
       "2                         Glycine max (Land Plants)\n",
       "3                 Medicago truncatula (Land Plants)\n",
       "4                Solanum lycopersicum (Land Plants)\n",
       "                           ...                     \n",
       "8297         Saccharomyces cerevisiae (Ascomycetes)\n",
       "8298         Saccharomyces cerevisiae (Ascomycetes)\n",
       "8299         Saccharomyces cerevisiae (Ascomycetes)\n",
       "8300         Saccharomyces cerevisiae (Ascomycetes)\n",
       "8301         Saccharomyces cerevisiae (Ascomycetes)\n",
       "Length: 8302, dtype: string"
      ]
     },
     "execution_count": 17,
     "metadata": {},
     "output_type": "execute_result"
    }
   ],
   "source": [
    "# We can concatenate strings.\n",
    "\n",
    "euk[\"Species\"] + \" (\" + euk[\"Class\"] + \")\""
   ]
  },
  {
   "cell_type": "code",
   "execution_count": 21,
   "id": "2ae2c0d9",
   "metadata": {},
   "outputs": [
    {
     "name": "stdout",
     "output_type": "stream",
     "text": [
      "0       EMILIANIA HUXLEYI CCMP1516\n",
      "1             ARABIDOPSIS THALIANA\n",
      "2                      GLYCINE MAX\n",
      "3              MEDICAGO TRUNCATULA\n",
      "4             SOLANUM LYCOPERSICUM\n",
      "                   ...            \n",
      "8297      SACCHAROMYCES CEREVISIAE\n",
      "8298      SACCHAROMYCES CEREVISIAE\n",
      "8299      SACCHAROMYCES CEREVISIAE\n",
      "8300      SACCHAROMYCES CEREVISIAE\n",
      "8301      SACCHAROMYCES CEREVISIAE\n",
      "Name: Species, Length: 8302, dtype: string\n"
     ]
    },
    {
     "data": {
      "text/plain": [
       "4.201547332780901"
      ]
     },
     "execution_count": 21,
     "metadata": {},
     "output_type": "execute_result"
    }
   ],
   "source": [
    "# Get species name in upper case\n",
    "\n",
    "print(euk[\"Species\"].str.upper())\n",
    "\n",
    "# Chain together\n",
    "\n",
    "np.log(euk[\"Size (Mb)\"]).mean()"
   ]
  },
  {
   "cell_type": "code",
   "execution_count": 24,
   "id": "8c65f7e9",
   "metadata": {},
   "outputs": [
    {
     "data": {
      "text/plain": [
       "0.2883939418821724"
      ]
     },
     "execution_count": 24,
     "metadata": {},
     "output_type": "execute_result"
    }
   ],
   "source": [
    "# Get the median of gene density\n",
    "\n",
    "density = euk[\"Number of genes\"] / (euk[\"Size (Mb)\"] * 1000)\n",
    "density.median()"
   ]
  },
  {
   "cell_type": "code",
   "execution_count": 26,
   "id": "2fdeb4bc",
   "metadata": {},
   "outputs": [
    {
     "data": {
      "text/html": [
       "<div>\n",
       "<style scoped>\n",
       "    .dataframe tbody tr th:only-of-type {\n",
       "        vertical-align: middle;\n",
       "    }\n",
       "\n",
       "    .dataframe tbody tr th {\n",
       "        vertical-align: top;\n",
       "    }\n",
       "\n",
       "    .dataframe thead th {\n",
       "        text-align: right;\n",
       "    }\n",
       "</style>\n",
       "<table border=\"1\" class=\"dataframe\">\n",
       "  <thead>\n",
       "    <tr style=\"text-align: right;\">\n",
       "      <th></th>\n",
       "      <th>Species</th>\n",
       "      <th>Size (Mb)</th>\n",
       "      <th>Number of genes</th>\n",
       "    </tr>\n",
       "  </thead>\n",
       "  <tbody>\n",
       "    <tr>\n",
       "      <th>0</th>\n",
       "      <td>Emiliania huxleyi CCMP1516</td>\n",
       "      <td>167.676</td>\n",
       "      <td>38549</td>\n",
       "    </tr>\n",
       "    <tr>\n",
       "      <th>1</th>\n",
       "      <td>Arabidopsis thaliana</td>\n",
       "      <td>119.669</td>\n",
       "      <td>38311</td>\n",
       "    </tr>\n",
       "    <tr>\n",
       "      <th>2</th>\n",
       "      <td>Glycine max</td>\n",
       "      <td>979.046</td>\n",
       "      <td>59847</td>\n",
       "    </tr>\n",
       "    <tr>\n",
       "      <th>3</th>\n",
       "      <td>Medicago truncatula</td>\n",
       "      <td>412.924</td>\n",
       "      <td>37603</td>\n",
       "    </tr>\n",
       "    <tr>\n",
       "      <th>4</th>\n",
       "      <td>Solanum lycopersicum</td>\n",
       "      <td>828.349</td>\n",
       "      <td>31200</td>\n",
       "    </tr>\n",
       "  </tbody>\n",
       "</table>\n",
       "</div>"
      ],
      "text/plain": [
       "                      Species  Size (Mb)  Number of genes\n",
       "0  Emiliania huxleyi CCMP1516    167.676            38549\n",
       "1        Arabidopsis thaliana    119.669            38311\n",
       "2                 Glycine max    979.046            59847\n",
       "3         Medicago truncatula    412.924            37603\n",
       "4        Solanum lycopersicum    828.349            31200"
      ]
     },
     "execution_count": 26,
     "metadata": {},
     "output_type": "execute_result"
    }
   ],
   "source": [
    "# Selecting multiple columns. \n",
    "# The outer pair of [] indicates that we're selecting columns, the inner defines a list of column names.\n",
    "\n",
    "euk[[\"Species\", \"Size (Mb)\", \"Number of genes\"]].head()"
   ]
  },
  {
   "cell_type": "code",
   "execution_count": 27,
   "id": "5b336100",
   "metadata": {},
   "outputs": [
    {
     "data": {
      "text/plain": [
       "210     10.385803\n",
       "957     10.225669\n",
       "4670    10.201226\n",
       "Name: Size (Mb), dtype: float64"
      ]
     },
     "execution_count": 27,
     "metadata": {},
     "output_type": "execute_result"
    }
   ],
   "source": [
    "np.log(euk[\"Size (Mb)\"]).nlargest(3)"
   ]
  },
  {
   "cell_type": "code",
   "execution_count": 28,
   "id": "da030dcf",
   "metadata": {},
   "outputs": [
    {
     "data": {
      "text/html": [
       "<div>\n",
       "<style scoped>\n",
       "    .dataframe tbody tr th:only-of-type {\n",
       "        vertical-align: middle;\n",
       "    }\n",
       "\n",
       "    .dataframe tbody tr th {\n",
       "        vertical-align: top;\n",
       "    }\n",
       "\n",
       "    .dataframe thead th {\n",
       "        text-align: right;\n",
       "    }\n",
       "</style>\n",
       "<table border=\"1\" class=\"dataframe\">\n",
       "  <thead>\n",
       "    <tr style=\"text-align: right;\">\n",
       "      <th></th>\n",
       "      <th>Kingdom</th>\n",
       "      <th>Class</th>\n",
       "      <th>Size (Mb)</th>\n",
       "      <th>GC%</th>\n",
       "      <th>Number of genes</th>\n",
       "      <th>Number of proteins</th>\n",
       "      <th>Publication year</th>\n",
       "      <th>Assembly status</th>\n",
       "    </tr>\n",
       "    <tr>\n",
       "      <th>Species</th>\n",
       "      <th></th>\n",
       "      <th></th>\n",
       "      <th></th>\n",
       "      <th></th>\n",
       "      <th></th>\n",
       "      <th></th>\n",
       "      <th></th>\n",
       "      <th></th>\n",
       "    </tr>\n",
       "  </thead>\n",
       "  <tbody>\n",
       "    <tr>\n",
       "      <th>Emiliania huxleyi CCMP1516</th>\n",
       "      <td>Protists</td>\n",
       "      <td>Other Protists</td>\n",
       "      <td>167.676</td>\n",
       "      <td>64.5000</td>\n",
       "      <td>38549</td>\n",
       "      <td>38554</td>\n",
       "      <td>2013</td>\n",
       "      <td>Scaffold</td>\n",
       "    </tr>\n",
       "    <tr>\n",
       "      <th>Arabidopsis thaliana</th>\n",
       "      <td>Plants</td>\n",
       "      <td>Land Plants</td>\n",
       "      <td>119.669</td>\n",
       "      <td>36.0529</td>\n",
       "      <td>38311</td>\n",
       "      <td>48265</td>\n",
       "      <td>2001</td>\n",
       "      <td>Chromosome</td>\n",
       "    </tr>\n",
       "    <tr>\n",
       "      <th>Glycine max</th>\n",
       "      <td>Plants</td>\n",
       "      <td>Land Plants</td>\n",
       "      <td>979.046</td>\n",
       "      <td>35.1153</td>\n",
       "      <td>59847</td>\n",
       "      <td>71219</td>\n",
       "      <td>2010</td>\n",
       "      <td>Chromosome</td>\n",
       "    </tr>\n",
       "    <tr>\n",
       "      <th>Medicago truncatula</th>\n",
       "      <td>Plants</td>\n",
       "      <td>Land Plants</td>\n",
       "      <td>412.924</td>\n",
       "      <td>34.0470</td>\n",
       "      <td>37603</td>\n",
       "      <td>41939</td>\n",
       "      <td>2011</td>\n",
       "      <td>Chromosome</td>\n",
       "    </tr>\n",
       "    <tr>\n",
       "      <th>Solanum lycopersicum</th>\n",
       "      <td>Plants</td>\n",
       "      <td>Land Plants</td>\n",
       "      <td>828.349</td>\n",
       "      <td>35.6991</td>\n",
       "      <td>31200</td>\n",
       "      <td>37660</td>\n",
       "      <td>2010</td>\n",
       "      <td>Chromosome</td>\n",
       "    </tr>\n",
       "  </tbody>\n",
       "</table>\n",
       "</div>"
      ],
      "text/plain": [
       "                             Kingdom           Class  Size (Mb)      GC%  \\\n",
       "Species                                                                    \n",
       "Emiliania huxleyi CCMP1516  Protists  Other Protists    167.676  64.5000   \n",
       "Arabidopsis thaliana          Plants     Land Plants    119.669  36.0529   \n",
       "Glycine max                   Plants     Land Plants    979.046  35.1153   \n",
       "Medicago truncatula           Plants     Land Plants    412.924  34.0470   \n",
       "Solanum lycopersicum          Plants     Land Plants    828.349  35.6991   \n",
       "\n",
       "                            Number of genes  Number of proteins  \\\n",
       "Species                                                           \n",
       "Emiliania huxleyi CCMP1516            38549               38554   \n",
       "Arabidopsis thaliana                  38311               48265   \n",
       "Glycine max                           59847               71219   \n",
       "Medicago truncatula                   37603               41939   \n",
       "Solanum lycopersicum                  31200               37660   \n",
       "\n",
       "                            Publication year Assembly status  \n",
       "Species                                                       \n",
       "Emiliania huxleyi CCMP1516              2013        Scaffold  \n",
       "Arabidopsis thaliana                    2001      Chromosome  \n",
       "Glycine max                             2010      Chromosome  \n",
       "Medicago truncatula                     2011      Chromosome  \n",
       "Solanum lycopersicum                    2010      Chromosome  "
      ]
     },
     "execution_count": 28,
     "metadata": {},
     "output_type": "execute_result"
    }
   ],
   "source": [
    "# Define what column we want to use as a label.\n",
    "# Doesn't change the original dataframe, but makes a copy.\n",
    "\n",
    "euk.set_index(\"Species\").head()"
   ]
  },
  {
   "cell_type": "code",
   "execution_count": 30,
   "id": "2abc5334",
   "metadata": {},
   "outputs": [
    {
     "data": {
      "text/plain": [
       "Species\n",
       "Brassica napus        119453\n",
       "Vitis vinifera        112321\n",
       "Arachis hypogaea      111051\n",
       "Camelina sativa        97832\n",
       "Papaver somniferum     91114\n",
       "Name: Number of genes, dtype: Int64"
      ]
     },
     "execution_count": 30,
     "metadata": {},
     "output_type": "execute_result"
    }
   ],
   "source": [
    "euk.set_index(\"Species\")[\"Number of genes\"].nlargest()"
   ]
  },
  {
   "cell_type": "code",
   "execution_count": 34,
   "id": "38834ca5",
   "metadata": {},
   "outputs": [
    {
     "data": {
      "text/plain": [
       "Species\n",
       "Trichomalopsis sarcophagae       3\n",
       "Brachionus plicatilis            4\n",
       "Enteromyxum leei                 5\n",
       "Kudoa iwatai                     7\n",
       "Leucoraja erinacea              13\n",
       "                              ... \n",
       "Saccharomyces cerevisiae      <NA>\n",
       "Saccharomyces cerevisiae      <NA>\n",
       "Saccharomyces cerevisiae      <NA>\n",
       "Saccharomyces cerevisiae      <NA>\n",
       "Saccharomyces cerevisiae      <NA>\n",
       "Name: Number of genes, Length: 8302, dtype: Int64"
      ]
     },
     "execution_count": 34,
     "metadata": {},
     "output_type": "execute_result"
    }
   ],
   "source": [
    "# Sorting the entire set of values.\n",
    "\n",
    "euk.set_index(\"Species\")[\"Number of genes\"].sort_values()"
   ]
  },
  {
   "cell_type": "code",
   "execution_count": 35,
   "id": "50da93d5",
   "metadata": {},
   "outputs": [
    {
     "data": {
      "text/plain": [
       "Species\n",
       "Abeoforma whisleri          <NA>\n",
       "Abrus precatorius          28735\n",
       "Absidia glauca             15117\n",
       "Absidia repens             15151\n",
       "Acanthamoeba astronyxis     <NA>\n",
       "                           ...  \n",
       "fungal sp. EF0021           <NA>\n",
       "fungal sp. Mo6-1            <NA>\n",
       "fungal sp. No.11243         9730\n",
       "fungal sp. No.14919        14606\n",
       "uncultured Bathycoccus      <NA>\n",
       "Name: Number of genes, Length: 8302, dtype: Int64"
      ]
     },
     "execution_count": 35,
     "metadata": {},
     "output_type": "execute_result"
    }
   ],
   "source": [
    "euk.set_index(\"Species\")[\"Number of genes\"].sort_index()"
   ]
  },
  {
   "cell_type": "code",
   "execution_count": 37,
   "id": "f2fd176e",
   "metadata": {},
   "outputs": [
    {
     "data": {
      "text/plain": [
       "Species\n",
       "Abrus precatorius                      28735\n",
       "Absidia glauca                         15117\n",
       "Absidia repens                         15151\n",
       "Acanthamoeba castellanii str. Neff     15655\n",
       "Acanthaster planci                     18187\n",
       "                                       ...  \n",
       "[Candida] intermedia                    6073\n",
       "[Candida] pseudohaemulonis              5284\n",
       "[Nectria] haematococca mpVI 77-13-4    15708\n",
       "fungal sp. No.11243                     9730\n",
       "fungal sp. No.14919                    14606\n",
       "Name: Number of genes, Length: 2372, dtype: Int64"
      ]
     },
     "execution_count": 37,
     "metadata": {},
     "output_type": "execute_result"
    }
   ],
   "source": [
    "# Removing the missing data values\n",
    "\n",
    "euk.set_index(\"Species\")[\"Number of genes\"].sort_index().dropna()"
   ]
  },
  {
   "cell_type": "code",
   "execution_count": 39,
   "id": "b8bcefd6",
   "metadata": {},
   "outputs": [
    {
     "data": {
      "text/plain": [
       "Species\n",
       "Abrus precatorius                      28735\n",
       "Absidia glauca                         15117\n",
       "Absidia repens                         15151\n",
       "Acanthamoeba castellanii str. Neff     15655\n",
       "Acanthaster planci                     18187\n",
       "                                       ...  \n",
       "[Candida] intermedia                    6073\n",
       "[Candida] pseudohaemulonis              5284\n",
       "[Nectria] haematococca mpVI 77-13-4    15708\n",
       "fungal sp. No.11243                     9730\n",
       "fungal sp. No.14919                    14606\n",
       "Name: Number of genes, Length: 2372, dtype: Int64"
      ]
     },
     "execution_count": 39,
     "metadata": {},
     "output_type": "execute_result"
    }
   ],
   "source": [
    "# Multilime method chains\n",
    "\n",
    "(\n",
    "    euk # start with the dataframe\n",
    "    .set_index(\"Species\") # set the index to be the species name\n",
    "    [\"Number of genes\"] # get the number of genes\n",
    "    .sort_index() #sort the series by the index\n",
    "    .dropna() # remove any missing data\n",
    ")"
   ]
  },
  {
   "cell_type": "code",
   "execution_count": 44,
   "id": "7d677f46",
   "metadata": {},
   "outputs": [
    {
     "data": {
      "text/plain": [
       "Species\n",
       "Emiliania huxleyi CCMP1516    False\n",
       "Arabidopsis thaliana          False\n",
       "Glycine max                    True\n",
       "Medicago truncatula           False\n",
       "Solanum lycopersicum           True\n",
       "                              ...  \n",
       "Saccharomyces cerevisiae      False\n",
       "Saccharomyces cerevisiae      False\n",
       "Saccharomyces cerevisiae      False\n",
       "Saccharomyces cerevisiae      False\n",
       "Saccharomyces cerevisiae      False\n",
       "Name: Size (Mb), Length: 8302, dtype: bool"
      ]
     },
     "execution_count": 44,
     "metadata": {},
     "output_type": "execute_result"
    }
   ],
   "source": [
    "# Is the size greater than 500 Mb?\n",
    "\n",
    "euk.set_index(\"Species\")[\"Size (Mb)\"] > 500"
   ]
  },
  {
   "cell_type": "code",
   "execution_count": null,
   "id": "95c2b105",
   "metadata": {},
   "outputs": [],
   "source": []
  }
 ],
 "metadata": {
  "kernelspec": {
   "display_name": "Python 3 (ipykernel)",
   "language": "python",
   "name": "python3"
  },
  "language_info": {
   "codemirror_mode": {
    "name": "ipython",
    "version": 3
   },
   "file_extension": ".py",
   "mimetype": "text/x-python",
   "name": "python",
   "nbconvert_exporter": "python",
   "pygments_lexer": "ipython3",
   "version": "3.9.7"
  }
 },
 "nbformat": 4,
 "nbformat_minor": 5
}
